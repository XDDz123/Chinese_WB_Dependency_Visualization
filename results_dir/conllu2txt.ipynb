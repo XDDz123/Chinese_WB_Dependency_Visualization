{
 "cells": [
  {
   "attachments": {},
   "cell_type": "markdown",
   "id": "719d99af",
   "metadata": {},
   "source": [
    "### readme"
   ]
  },
  {
   "cell_type": "code",
   "execution_count": null,
   "id": "9ee66024",
   "metadata": {},
   "outputs": [],
   "source": []
  },
  {
   "cell_type": "code",
   "execution_count": null,
   "id": "b7883412",
   "metadata": {},
   "outputs": [
    {
     "name": "stdout",
     "output_type": "stream",
     "text": [
      "Corpus:\tgsd\n",
      "Sentences  |       494 &          3 &          6 |           \n",
      "F score =  0.9909729187562687\n",
      "Tokens     |     11352 &        793 &        660 |           \n",
      "F score =  0.9398518027900815\n",
      "-----\n",
      "\n",
      "Corpus:\tltp\n",
      "Sentences  |       494 &          3 &          6 |           \n",
      "F score =  0.9909729187562687\n",
      "Tokens     |     10042 &        936 &        690 |           \n",
      "F score =  0.9251036388760939\n",
      "-----\n",
      "\n",
      "Corpus:\tpenn\n",
      "Sentences  |       494 &          3 &          6 |           \n",
      "F score =  0.9909729187562687\n",
      "Tokens     |      9869 &       1235 &       1196 |           \n",
      "F score =  0.8903423699760926\n",
      "-----\n",
      "\n",
      "Corpus:\tpku\n",
      "Sentences  |       494 &          6 &          6 |           \n",
      "F score =  0.988\n",
      "Tokens     |      9731 &       1429 &       1506 |           \n",
      "F score =  0.8689556637049606\n",
      "-----\n",
      "\n"
     ]
    }
   ],
   "source": []
  }
 ],
 "metadata": {
  "kernelspec": {
   "display_name": "Python 3",
   "language": "python",
   "name": "python3"
  },
  "language_info": {
   "codemirror_mode": {
    "name": "ipython",
    "version": 3
   },
   "file_extension": ".py",
   "mimetype": "text/x-python",
   "name": "python",
   "nbconvert_exporter": "python",
   "pygments_lexer": "ipython3",
   "version": "3.9.6"
  }
 },
 "nbformat": 4,
 "nbformat_minor": 5
}
